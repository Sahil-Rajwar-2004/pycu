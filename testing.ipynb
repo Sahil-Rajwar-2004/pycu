{
 "cells": [
  {
   "cell_type": "code",
   "execution_count": 16,
   "id": "21bf7a55-f7a3-4c2f-97e5-00623cbcde44",
   "metadata": {},
   "outputs": [],
   "source": [
    "from pycu import (\n",
    "    int16,\n",
    "    int32,\n",
    "    int64\n",
    ")"
   ]
  },
  {
   "cell_type": "code",
   "execution_count": 17,
   "id": "07a8ebe5-6fee-48fd-b8c8-f91b8ba24dc8",
   "metadata": {},
   "outputs": [],
   "source": [
    "x = int16(1)\n",
    "y = int32(2)\n",
    "z = int64(3)"
   ]
  },
  {
   "cell_type": "code",
   "execution_count": 18,
   "id": "94e9cbdc-eff2-4f49-a00a-439d2e11cc21",
   "metadata": {},
   "outputs": [
    {
     "name": "stdout",
     "output_type": "stream",
     "text": [
      "CPU times: user 1.37 ms, sys: 1.33 ms, total: 2.7 ms\n",
      "Wall time: 1.51 ms\n"
     ]
    },
    {
     "data": {
      "text/plain": [
       "3"
      ]
     },
     "execution_count": 18,
     "metadata": {},
     "output_type": "execute_result"
    }
   ],
   "source": [
    "%%time\n",
    "x + y"
   ]
  },
  {
   "cell_type": "code",
   "execution_count": 19,
   "id": "afd857c9-6b5f-4bfa-9c5c-b99359728879",
   "metadata": {},
   "outputs": [
    {
     "name": "stdout",
     "output_type": "stream",
     "text": [
      "CPU times: user 7 ms, sys: 0 ns, total: 7 ms\n",
      "Wall time: 5.72 ms\n"
     ]
    },
    {
     "data": {
      "text/plain": [
       "(5, pycu.int64)"
      ]
     },
     "execution_count": 19,
     "metadata": {},
     "output_type": "execute_result"
    }
   ],
   "source": [
    "%%time\n",
    "x * y + z,type(x * y + z)"
   ]
  },
  {
   "cell_type": "code",
   "execution_count": 20,
   "id": "dd51133e-fc85-4f50-98d3-ae08dc9b1ce6",
   "metadata": {},
   "outputs": [
    {
     "data": {
      "text/plain": [
       "(10000000, pycu.int32)"
      ]
     },
     "execution_count": 20,
     "metadata": {},
     "output_type": "execute_result"
    }
   ],
   "source": [
    "a = int32(10000000)\n",
    "(a,type(a))"
   ]
  },
  {
   "cell_type": "code",
   "execution_count": null,
   "id": "5c91933e-0893-43b1-a351-085b9c25cba0",
   "metadata": {},
   "outputs": [],
   "source": []
  }
 ],
 "metadata": {
  "kernelspec": {
   "display_name": "Python 3 (ipykernel)",
   "language": "python",
   "name": "python3"
  },
  "language_info": {
   "codemirror_mode": {
    "name": "ipython",
    "version": 3
   },
   "file_extension": ".py",
   "mimetype": "text/x-python",
   "name": "python",
   "nbconvert_exporter": "python",
   "pygments_lexer": "ipython3",
   "version": "3.10.12"
  }
 },
 "nbformat": 4,
 "nbformat_minor": 5
}
