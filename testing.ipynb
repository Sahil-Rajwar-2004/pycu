{
 "cells": [
  {
   "cell_type": "code",
   "execution_count": 1,
   "id": "21bf7a55-f7a3-4c2f-97e5-00623cbcde44",
   "metadata": {},
   "outputs": [],
   "source": [
    "from pycu import (\n",
    "    int16,\n",
    "    int32,\n",
    "    int64\n",
    ")"
   ]
  },
  {
   "cell_type": "code",
   "execution_count": 2,
   "id": "07a8ebe5-6fee-48fd-b8c8-f91b8ba24dc8",
   "metadata": {},
   "outputs": [],
   "source": [
    "x = int16(1)\n",
    "y = int32(2)\n",
    "z = int64(3)"
   ]
  },
  {
   "cell_type": "code",
   "execution_count": 3,
   "id": "94e9cbdc-eff2-4f49-a00a-439d2e11cc21",
   "metadata": {},
   "outputs": [
    {
     "name": "stdout",
     "output_type": "stream",
     "text": [
      "CPU times: user 1.62 ms, sys: 657 µs, total: 2.27 ms\n",
      "Wall time: 13.8 ms\n"
     ]
    },
    {
     "data": {
      "text/plain": [
       "3"
      ]
     },
     "execution_count": 3,
     "metadata": {},
     "output_type": "execute_result"
    }
   ],
   "source": [
    "%%time\n",
    "x + y"
   ]
  },
  {
   "cell_type": "code",
   "execution_count": 4,
   "id": "afd857c9-6b5f-4bfa-9c5c-b99359728879",
   "metadata": {},
   "outputs": [
    {
     "name": "stdout",
     "output_type": "stream",
     "text": [
      "CPU times: user 2.24 ms, sys: 950 µs, total: 3.19 ms\n",
      "Wall time: 2.24 ms\n"
     ]
    },
    {
     "data": {
      "text/plain": [
       "(5, pycu.int64)"
      ]
     },
     "execution_count": 4,
     "metadata": {},
     "output_type": "execute_result"
    }
   ],
   "source": [
    "%%time\n",
    "x * y + z,type(x * y + z)"
   ]
  },
  {
   "cell_type": "code",
   "execution_count": 5,
   "id": "dd51133e-fc85-4f50-98d3-ae08dc9b1ce6",
   "metadata": {},
   "outputs": [
    {
     "data": {
      "text/plain": [
       "(10000000, pycu.int32)"
      ]
     },
     "execution_count": 5,
     "metadata": {},
     "output_type": "execute_result"
    }
   ],
   "source": [
    "a = int32(10000000)\n",
    "(a,type(a))"
   ]
  },
  {
   "cell_type": "code",
   "execution_count": 6,
   "id": "5c91933e-0893-43b1-a351-085b9c25cba0",
   "metadata": {},
   "outputs": [
    {
     "data": {
      "text/plain": [
       "0"
      ]
     },
     "execution_count": 6,
     "metadata": {},
     "output_type": "execute_result"
    }
   ],
   "source": [
    "x / y"
   ]
  },
  {
   "cell_type": "code",
   "execution_count": 7,
   "id": "61cec256-7db0-4ae7-9f45-e74f466c3136",
   "metadata": {},
   "outputs": [
    {
     "data": {
      "text/plain": [
       "(2, pycu.int32)"
      ]
     },
     "execution_count": 7,
     "metadata": {},
     "output_type": "execute_result"
    }
   ],
   "source": [
    "y / x,type(y / x)"
   ]
  },
  {
   "cell_type": "code",
   "execution_count": 8,
   "id": "de0b6a0b-5f59-4929-92ec-ec1e374cf842",
   "metadata": {},
   "outputs": [
    {
     "data": {
      "text/plain": [
       "2"
      ]
     },
     "execution_count": 8,
     "metadata": {},
     "output_type": "execute_result"
    }
   ],
   "source": [
    "int16(2.3)"
   ]
  },
  {
   "cell_type": "code",
   "execution_count": 9,
   "id": "3385088c-7e9d-43c0-a712-4105ebd4750f",
   "metadata": {},
   "outputs": [
    {
     "data": {
      "text/plain": [
       "0"
      ]
     },
     "execution_count": 9,
     "metadata": {},
     "output_type": "execute_result"
    }
   ],
   "source": [
    "int32(0.3)"
   ]
  },
  {
   "cell_type": "code",
   "execution_count": 10,
   "id": "e4b807de-b738-473d-aeb8-a465766288c7",
   "metadata": {},
   "outputs": [
    {
     "data": {
      "text/plain": [
       "10000000000"
      ]
     },
     "execution_count": 10,
     "metadata": {},
     "output_type": "execute_result"
    }
   ],
   "source": [
    "int64(1e10)"
   ]
  },
  {
   "cell_type": "code",
   "execution_count": 11,
   "id": "35a01471-b0bd-402c-bdcd-07f7209e3611",
   "metadata": {},
   "outputs": [
    {
     "data": {
      "text/plain": [
       "'int16'"
      ]
     },
     "execution_count": 11,
     "metadata": {},
     "output_type": "execute_result"
    }
   ],
   "source": [
    "z.to_int16().dtype"
   ]
  },
  {
   "cell_type": "code",
   "execution_count": 12,
   "id": "b76333ea-c302-4a3d-a493-43d845456c66",
   "metadata": {},
   "outputs": [
    {
     "data": {
      "text/plain": [
       "'int32'"
      ]
     },
     "execution_count": 12,
     "metadata": {},
     "output_type": "execute_result"
    }
   ],
   "source": [
    "z.to_int32().dtype"
   ]
  },
  {
   "cell_type": "code",
   "execution_count": 13,
   "id": "242447b5-292d-4fc8-8097-4f9809cde128",
   "metadata": {},
   "outputs": [
    {
     "data": {
      "text/plain": [
       "1"
      ]
     },
     "execution_count": 13,
     "metadata": {},
     "output_type": "execute_result"
    }
   ],
   "source": [
    "z % y"
   ]
  },
  {
   "cell_type": "code",
   "execution_count": 14,
   "id": "de1823b3-7a6b-4036-930f-37434dbc4057",
   "metadata": {},
   "outputs": [
    {
     "data": {
      "text/plain": [
       "(5, 'int64')"
      ]
     },
     "execution_count": 14,
     "metadata": {},
     "output_type": "execute_result"
    }
   ],
   "source": [
    "z + y * x,(z + y * x).dtype"
   ]
  },
  {
   "cell_type": "code",
   "execution_count": 15,
   "id": "dd386e33-c335-44b2-8103-b4a62b3878f9",
   "metadata": {},
   "outputs": [
    {
     "data": {
      "text/plain": [
       "(9, 'int64')"
      ]
     },
     "execution_count": 15,
     "metadata": {},
     "output_type": "execute_result"
    }
   ],
   "source": [
    "z ** y,(z ** y).dtype"
   ]
  },
  {
   "cell_type": "code",
   "execution_count": 16,
   "id": "9e0144df-9dca-4075-8c04-7fb259dbfe41",
   "metadata": {},
   "outputs": [
    {
     "data": {
      "text/plain": [
       "1"
      ]
     },
     "execution_count": 16,
     "metadata": {},
     "output_type": "execute_result"
    }
   ],
   "source": [
    "abs(x)"
   ]
  },
  {
   "cell_type": "code",
   "execution_count": 17,
   "id": "f02d4b1c-90fa-45d8-802b-6d98324fed60",
   "metadata": {},
   "outputs": [
    {
     "data": {
      "text/plain": [
       "-2"
      ]
     },
     "execution_count": 17,
     "metadata": {},
     "output_type": "execute_result"
    }
   ],
   "source": [
    "a = int16(-2)\n",
    "a"
   ]
  },
  {
   "cell_type": "code",
   "execution_count": 18,
   "id": "64952c64-9216-411e-82c9-c2098408dca4",
   "metadata": {},
   "outputs": [
    {
     "data": {
      "text/plain": [
       "2"
      ]
     },
     "execution_count": 18,
     "metadata": {},
     "output_type": "execute_result"
    }
   ],
   "source": [
    "abs(a)"
   ]
  },
  {
   "cell_type": "code",
   "execution_count": 19,
   "id": "03e01fb7-06a4-41be-8ffb-eba24af35a72",
   "metadata": {},
   "outputs": [
    {
     "data": {
      "text/plain": [
       "-1"
      ]
     },
     "execution_count": 19,
     "metadata": {},
     "output_type": "execute_result"
    }
   ],
   "source": [
    "-x"
   ]
  },
  {
   "cell_type": "code",
   "execution_count": 20,
   "id": "bdd1c351-abd6-4eda-8975-1be0ebc51229",
   "metadata": {},
   "outputs": [
    {
     "data": {
      "text/plain": [
       "1"
      ]
     },
     "execution_count": 20,
     "metadata": {},
     "output_type": "execute_result"
    }
   ],
   "source": [
    "+x"
   ]
  },
  {
   "cell_type": "code",
   "execution_count": 21,
   "id": "9168288d-38d2-427b-a903-27140b8957ad",
   "metadata": {},
   "outputs": [
    {
     "data": {
      "text/plain": [
       "2"
      ]
     },
     "execution_count": 21,
     "metadata": {},
     "output_type": "execute_result"
    }
   ],
   "source": [
    "abs(y)"
   ]
  },
  {
   "cell_type": "code",
   "execution_count": 22,
   "id": "852b90fb-c622-45a8-b87e-3dd58be59e3f",
   "metadata": {},
   "outputs": [
    {
     "data": {
      "text/plain": [
       "(-3, 3, 3, -3)"
      ]
     },
     "execution_count": 22,
     "metadata": {},
     "output_type": "execute_result"
    }
   ],
   "source": [
    "pi = int32(-3.14)\n",
    "pi,abs(pi),-pi,+pi"
   ]
  },
  {
   "cell_type": "code",
   "execution_count": 23,
   "id": "98ab509a-5247-491b-b47c-f13ecc71ff95",
   "metadata": {},
   "outputs": [
    {
     "data": {
      "text/plain": [
       "(-2, 2, 2, -2)"
      ]
     },
     "execution_count": 23,
     "metadata": {},
     "output_type": "execute_result"
    }
   ],
   "source": [
    "e = int64(-2.71)\n",
    "e,abs(e),-e,+e"
   ]
  },
  {
   "cell_type": "code",
   "execution_count": 24,
   "id": "da410542-f4e5-4aa8-a703-ea6655c2c42c",
   "metadata": {},
   "outputs": [
    {
     "data": {
      "text/plain": [
       "True"
      ]
     },
     "execution_count": 24,
     "metadata": {},
     "output_type": "execute_result"
    }
   ],
   "source": [
    "int16(2) == int16(2.9)"
   ]
  },
  {
   "cell_type": "code",
   "execution_count": 25,
   "id": "549eee50-2527-40bc-807b-6cd72c1ee82f",
   "metadata": {},
   "outputs": [],
   "source": [
    "a = int16(2)\n",
    "b = int32(3)\n",
    "c = int64(4)"
   ]
  },
  {
   "cell_type": "code",
   "execution_count": 26,
   "id": "9002568d-2eef-465c-8992-d4e5f7a65200",
   "metadata": {},
   "outputs": [
    {
     "name": "stdout",
     "output_type": "stream",
     "text": [
      "2 == 3: False\n",
      "2 != 3: True\n",
      "2 > 3: False\n",
      "2 >= 3: False\n",
      "2 < 3: True\n",
      "2 <= 3: True\n"
     ]
    }
   ],
   "source": [
    "print(f\"{a} == {b}: {a == b}\")\n",
    "print(f\"{a} != {b}: {a != b}\")\n",
    "print(f\"{a} > {b}: {a > b}\")\n",
    "print(f\"{a} >= {b}: {a >= b}\")\n",
    "print(f\"{a} < {b}: {a < b}\")\n",
    "print(f\"{a} <= {b}: {a <= b}\")"
   ]
  },
  {
   "cell_type": "code",
   "execution_count": 27,
   "id": "4bec7126-8c6d-4369-86ba-ab173df72654",
   "metadata": {},
   "outputs": [
    {
     "name": "stdout",
     "output_type": "stream",
     "text": [
      "2 == 4: False\n",
      "2 != 4: True\n",
      "2 > 4: False\n",
      "2 >= 4: False\n",
      "2 < 4: True\n",
      "2 <= 4: True\n"
     ]
    }
   ],
   "source": [
    "print(f\"{a} == {c}: {a == c}\")\n",
    "print(f\"{a} != {c}: {a != c}\")\n",
    "print(f\"{a} > {c}: {a > c}\")\n",
    "print(f\"{a} >= {c}: {a >= c}\")\n",
    "print(f\"{a} < {c}: {a < c}\")\n",
    "print(f\"{a} <= {c}: {a <= c}\")"
   ]
  },
  {
   "cell_type": "code",
   "execution_count": 28,
   "id": "0da81201-ced7-42da-879c-98697ee6f837",
   "metadata": {},
   "outputs": [
    {
     "name": "stdout",
     "output_type": "stream",
     "text": [
      "CPU times: user 4.12 ms, sys: 0 ns, total: 4.12 ms\n",
      "Wall time: 3.52 ms\n"
     ]
    }
   ],
   "source": [
    "%%time\n",
    "z = a + b * c ** c // (a * c * b)"
   ]
  },
  {
   "cell_type": "code",
   "execution_count": 29,
   "id": "27fe461e-9179-4a5d-99d7-e27934dd53b6",
   "metadata": {},
   "outputs": [
    {
     "data": {
      "text/plain": [
       "(34, 'int64')"
      ]
     },
     "execution_count": 29,
     "metadata": {},
     "output_type": "execute_result"
    }
   ],
   "source": [
    "z,z.dtype"
   ]
  },
  {
   "cell_type": "code",
   "execution_count": null,
   "id": "0548fa20-ed2a-4f61-a652-de0a0dd447c8",
   "metadata": {},
   "outputs": [],
   "source": []
  }
 ],
 "metadata": {
  "kernelspec": {
   "display_name": "Python 3 (ipykernel)",
   "language": "python",
   "name": "python3"
  },
  "language_info": {
   "codemirror_mode": {
    "name": "ipython",
    "version": 3
   },
   "file_extension": ".py",
   "mimetype": "text/x-python",
   "name": "python",
   "nbconvert_exporter": "python",
   "pygments_lexer": "ipython3",
   "version": "3.10.12"
  }
 },
 "nbformat": 4,
 "nbformat_minor": 5
}
